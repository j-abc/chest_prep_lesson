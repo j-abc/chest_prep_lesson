{
 "cells": [
  {
   "cell_type": "code",
   "execution_count": null,
   "metadata": {},
   "outputs": [
    {
     "name": "stdout",
     "output_type": "stream",
     "text": [
      "-------------------------\n",
      "-------------------------\n",
      "-------------------------\n",
      "EXECUTING MODEL 17 OUT OF 25\n",
      "['cnn', {'dropout': 6, 'learning_rate': 0, 'num_layers': 2}, {'augment': 0}]\n",
      "Results directory: /home/jupyter/models/cnn_lay2_drop6_lr0/\n",
      "Running model: cnn_lay2_drop6_lr0\n",
      "\tDefining generators...\n",
      "Found 2000 images belonging to 2 classes.\n",
      "Found 400 images belonging to 2 classes.\n",
      "\tFitting model...\n",
      "Epoch 1/20\n",
      " 88/121 [====================>.........] - ETA: 5s - loss: 7.7486 - acc: 0.5107"
     ]
    }
   ],
   "source": [
    "start = 17\n",
    "end   = 25\n",
    "\n",
    "from generators import *\n",
    "from helpers import *\n",
    "from models import *\n",
    "from running import *\n",
    "\n",
    "models = prepare_models_list()\n",
    "\n",
    "for irow in range(start, end+1):\n",
    "    print('-------------------------')    \n",
    "    print('-------------------------')    \n",
    "    print('-------------------------')\n",
    "    print('EXECUTING MODEL %s OUT OF %s'%(irow, end))\n",
    "    print(models[irow])\n",
    "    \n",
    "    single_iter(models[irow], run_now = True, run_test = False)"
   ]
  },
  {
   "cell_type": "code",
   "execution_count": null,
   "metadata": {},
   "outputs": [],
   "source": []
  }
 ],
 "metadata": {
  "kernelspec": {
   "display_name": "Python 3",
   "language": "python",
   "name": "python3"
  },
  "language_info": {
   "codemirror_mode": {
    "name": "ipython",
    "version": 3
   },
   "file_extension": ".py",
   "mimetype": "text/x-python",
   "name": "python",
   "nbconvert_exporter": "python",
   "pygments_lexer": "ipython3",
   "version": "3.5.3"
  }
 },
 "nbformat": 4,
 "nbformat_minor": 2
}
