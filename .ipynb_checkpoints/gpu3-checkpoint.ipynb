{
 "cells": [
  {
   "cell_type": "code",
   "execution_count": null,
   "metadata": {},
   "outputs": [],
   "source": [
    "start = 17\n",
    "end   = 25\n",
    "\n",
    "from generators import *\n",
    "from helpers import *\n",
    "from models import *\n",
    "from running import *\n",
    "\n",
    "models = prepare_models_list()\n",
    "\n",
    "for irow in range(start, end+1):\n",
    "    print('-------------------------')    \n",
    "    print('-------------------------')    \n",
    "    print('-------------------------')\n",
    "    print('EXECUTING MODEL %s OUT OF %s'%(irow, end))\n",
    "    print(models[irow])\n",
    "    \n",
    "    single_iter(models[irow], run_now = True, run_test = False)"
   ]
  }
 ],
 "metadata": {
  "kernelspec": {
   "display_name": "Python 3",
   "language": "python",
   "name": "python3"
  },
  "language_info": {
   "codemirror_mode": {
    "name": "ipython",
    "version": 3
   },
   "file_extension": ".py",
   "mimetype": "text/x-python",
   "name": "python",
   "nbconvert_exporter": "python",
   "pygments_lexer": "ipython3",
   "version": "3.5.3"
  }
 },
 "nbformat": 4,
 "nbformat_minor": 2
}
