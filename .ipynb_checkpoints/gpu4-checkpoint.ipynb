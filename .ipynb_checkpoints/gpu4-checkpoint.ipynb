{
 "cells": [
  {
   "cell_type": "code",
   "execution_count": null,
   "metadata": {},
   "outputs": [
    {
     "name": "stderr",
     "output_type": "stream",
     "text": [
      "Using TensorFlow backend.\n"
     ]
    },
    {
     "name": "stdout",
     "output_type": "stream",
     "text": [
      "-------------------------\n",
      "-------------------------\n",
      "-------------------------\n",
      "EXECUTING MODEL 25 OUT OF 31\n",
      "['cnn', {'dropout': 3, 'num_layers': 4, 'learning_rate': 6}, {'augment': 0}]\n",
      "WARNING:tensorflow:From /usr/local/lib/python3.5/dist-packages/tensorflow/python/framework/op_def_library.py:263: colocate_with (from tensorflow.python.framework.ops) is deprecated and will be removed in a future version.\n",
      "Instructions for updating:\n",
      "Colocations handled automatically by placer.\n",
      "WARNING:tensorflow:From /usr/local/lib/python3.5/dist-packages/keras/backend/tensorflow_backend.py:3445: calling dropout (from tensorflow.python.ops.nn_ops) with keep_prob is deprecated and will be removed in a future version.\n",
      "Instructions for updating:\n",
      "Please use `rate` instead of `keep_prob`. Rate should be set to `rate = 1 - keep_prob`.\n",
      "Results directory: /home/jupyter/models/cnn_lay4_drop3_lr6/\n",
      "Running model: cnn_lay4_drop3_lr6\n",
      "\tDefining generators...\n",
      "Found 2000 images belonging to 2 classes.\n",
      "Found 400 images belonging to 2 classes.\n",
      "\tFitting model...\n",
      "WARNING:tensorflow:From /usr/local/lib/python3.5/dist-packages/tensorflow/python/ops/math_ops.py:3066: to_int32 (from tensorflow.python.ops.math_ops) is deprecated and will be removed in a future version.\n",
      "Instructions for updating:\n",
      "Use tf.cast instead.\n",
      "Epoch 1/20\n",
      "121/121 [==============================] - 28s 232ms/step - loss: 0.6910 - acc: 0.5377 - val_loss: 0.6919 - val_acc: 0.5100\n",
      "Epoch 2/20\n",
      "121/121 [==============================] - 17s 136ms/step - loss: 0.6911 - acc: 0.5284 - val_loss: 0.6911 - val_acc: 0.5550\n",
      "Epoch 3/20\n",
      "121/121 [==============================] - 16s 136ms/step - loss: 0.6910 - acc: 0.5411 - val_loss: 0.6915 - val_acc: 0.5200\n",
      "Epoch 4/20\n",
      " 28/121 [=====>........................] - ETA: 12s - loss: 0.6913 - acc: 0.5257"
     ]
    }
   ],
   "source": [
    "start = 25\n",
    "end   = 31\n",
    "\n",
    "from generators import *\n",
    "from helpers import *\n",
    "from models import *\n",
    "from running import *\n",
    "\n",
    "models = prepare_models_list()\n",
    "\n",
    "for irow in range(start, end+1):\n",
    "    print('-------------------------')    \n",
    "    print('-------------------------')    \n",
    "    print('-------------------------')\n",
    "    print('EXECUTING MODEL %s OUT OF %s'%(irow, end))\n",
    "    print(models[irow])\n",
    "    \n",
    "    single_iter(models[irow], run_now = True, run_test = False)"
   ]
  },
  {
   "cell_type": "code",
   "execution_count": null,
   "metadata": {},
   "outputs": [],
   "source": []
  }
 ],
 "metadata": {
  "kernelspec": {
   "display_name": "Python 3",
   "language": "python",
   "name": "python3"
  },
  "language_info": {
   "codemirror_mode": {
    "name": "ipython",
    "version": 3
   },
   "file_extension": ".py",
   "mimetype": "text/x-python",
   "name": "python",
   "nbconvert_exporter": "python",
   "pygments_lexer": "ipython3",
   "version": "3.5.3"
  }
 },
 "nbformat": 4,
 "nbformat_minor": 2
}
