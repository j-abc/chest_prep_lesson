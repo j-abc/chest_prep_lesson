{
 "cells": [
  {
   "cell_type": "code",
   "execution_count": null,
   "metadata": {},
   "outputs": [
    {
     "name": "stderr",
     "output_type": "stream",
     "text": [
      "Using TensorFlow backend.\n"
     ]
    },
    {
     "name": "stdout",
     "output_type": "stream",
     "text": [
      "-------------------------\n",
      "-------------------------\n",
      "-------------------------\n",
      "EXECUTING MODEL 9 OUT OF 16\n",
      "['cnn', {'dropout': 6, 'num_layers': 1, 'learning_rate': 3}, {'augment': 0}]\n",
      "WARNING:tensorflow:From /usr/local/lib/python3.5/dist-packages/tensorflow/python/framework/op_def_library.py:263: colocate_with (from tensorflow.python.framework.ops) is deprecated and will be removed in a future version.\n",
      "Instructions for updating:\n",
      "Colocations handled automatically by placer.\n",
      "WARNING:tensorflow:From /usr/local/lib/python3.5/dist-packages/keras/backend/tensorflow_backend.py:3445: calling dropout (from tensorflow.python.ops.nn_ops) with keep_prob is deprecated and will be removed in a future version.\n",
      "Instructions for updating:\n",
      "Please use `rate` instead of `keep_prob`. Rate should be set to `rate = 1 - keep_prob`.\n",
      "Results directory: /home/jupyter/models/cnn_lay1_drop6_lr3/\n",
      "Running model: cnn_lay1_drop6_lr3\n",
      "\tDefining generators...\n",
      "Found 2000 images belonging to 2 classes.\n",
      "Found 400 images belonging to 2 classes.\n",
      "\tFitting model...\n",
      "WARNING:tensorflow:From /usr/local/lib/python3.5/dist-packages/tensorflow/python/ops/math_ops.py:3066: to_int32 (from tensorflow.python.ops.math_ops) is deprecated and will be removed in a future version.\n",
      "Instructions for updating:\n",
      "Use tf.cast instead.\n",
      "Epoch 1/20\n",
      "121/121 [==============================] - 20s 163ms/step - loss: 0.5211 - acc: 0.7309 - val_loss: 0.7521 - val_acc: 0.6250\n",
      "Epoch 2/20\n",
      "121/121 [==============================] - 10s 85ms/step - loss: 0.3485 - acc: 0.8414 - val_loss: 0.4373 - val_acc: 0.7650\n",
      "Epoch 3/20\n",
      "121/121 [==============================] - 10s 82ms/step - loss: 0.3590 - acc: 0.8347 - val_loss: 0.5770 - val_acc: 0.7000\n",
      "Epoch 4/20\n",
      "121/121 [==============================] - 10s 79ms/step - loss: 0.3973 - acc: 0.8370 - val_loss: 0.4909 - val_acc: 0.7500\n",
      "Epoch 5/20\n",
      "121/121 [==============================] - 10s 83ms/step - loss: 0.3681 - acc: 0.8254 - val_loss: 0.5205 - val_acc: 0.7400\n",
      "Epoch 6/20\n",
      "121/121 [==============================] - 10s 84ms/step - loss: 0.3922 - acc: 0.8102 - val_loss: 0.4840 - val_acc: 0.7150\n",
      "Epoch 7/20\n",
      "121/121 [==============================] - 10s 84ms/step - loss: 0.3588 - acc: 0.8275 - val_loss: 0.5595 - val_acc: 0.7200\n",
      "Epoch 8/20\n",
      "121/121 [==============================] - 10s 80ms/step - loss: 0.3038 - acc: 0.8329 - val_loss: 0.6135 - val_acc: 0.7200\n",
      "Epoch 9/20\n",
      "121/121 [==============================] - 11s 92ms/step - loss: 0.2792 - acc: 0.8644 - val_loss: 0.5289 - val_acc: 0.7800\n",
      "Epoch 10/20\n",
      " 94/121 [======================>.......] - ETA: 2s - loss: 0.2565 - acc: 0.8684"
     ]
    }
   ],
   "source": [
    "start = 9\n",
    "end   = 16\n",
    "\n",
    "from generators import *\n",
    "from helpers import *\n",
    "from models import *\n",
    "from running import *\n",
    "\n",
    "models = prepare_models_list()\n",
    "\n",
    "for irow in range(start, end+1):\n",
    "    print('-------------------------')    \n",
    "    print('-------------------------')    \n",
    "    print('-------------------------')\n",
    "    print('EXECUTING MODEL %s OUT OF %s'%(irow, end))\n",
    "    print(models[irow])\n",
    "    \n",
    "    single_iter(models[irow], run_now = True, run_test = False)"
   ]
  },
  {
   "cell_type": "code",
   "execution_count": null,
   "metadata": {},
   "outputs": [],
   "source": []
  }
 ],
 "metadata": {
  "kernelspec": {
   "display_name": "Python 3",
   "language": "python",
   "name": "python3"
  },
  "language_info": {
   "codemirror_mode": {
    "name": "ipython",
    "version": 3
   },
   "file_extension": ".py",
   "mimetype": "text/x-python",
   "name": "python",
   "nbconvert_exporter": "python",
   "pygments_lexer": "ipython3",
   "version": "3.5.3"
  }
 },
 "nbformat": 4,
 "nbformat_minor": 2
}
