{
 "cells": [
  {
   "cell_type": "code",
   "execution_count": null,
   "metadata": {},
   "outputs": [
    {
     "name": "stderr",
     "output_type": "stream",
     "text": [
      "Using TensorFlow backend.\n"
     ]
    },
    {
     "name": "stdout",
     "output_type": "stream",
     "text": [
      "-------------------------\n",
      "-------------------------\n",
      "-------------------------\n",
      "EXECUTING MODEL 0 OUT OF 8\n",
      "['log', {}, {'augment': 0}]\n",
      "WARNING:tensorflow:From /usr/local/lib/python3.5/dist-packages/tensorflow/python/framework/op_def_library.py:263: colocate_with (from tensorflow.python.framework.ops) is deprecated and will be removed in a future version.\n",
      "Instructions for updating:\n",
      "Colocations handled automatically by placer.\n",
      "Results directory: /home/jupyter/models/logistic/\n",
      "Running model: logistic\n",
      "\tDefining generators...\n",
      "Found 2000 images belonging to 2 classes.\n",
      "Found 400 images belonging to 2 classes.\n",
      "\tFitting model...\n",
      "WARNING:tensorflow:From /usr/local/lib/python3.5/dist-packages/tensorflow/python/ops/math_ops.py:3066: to_int32 (from tensorflow.python.ops.math_ops) is deprecated and will be removed in a future version.\n",
      "Instructions for updating:\n",
      "Use tf.cast instead.\n",
      "Epoch 1/20\n",
      "121/121 [==============================] - 14s 117ms/step - loss: 7.9773 - acc: 0.5015 - val_loss: 7.8979 - val_acc: 0.5100\n",
      "Epoch 2/20\n",
      "121/121 [==============================] - 11s 91ms/step - loss: 8.0258 - acc: 0.5021 - val_loss: 8.2202 - val_acc: 0.4900\n",
      "Epoch 3/20\n",
      "121/121 [==============================] - 11s 91ms/step - loss: 8.0965 - acc: 0.4977 - val_loss: 8.3008 - val_acc: 0.4850\n",
      "Epoch 4/20\n",
      "121/121 [==============================] - 11s 90ms/step - loss: 8.0507 - acc: 0.5005 - val_loss: 7.8173 - val_acc: 0.5150\n",
      "Epoch 5/20\n",
      "121/121 [==============================] - 11s 91ms/step - loss: 8.0924 - acc: 0.4979 - val_loss: 8.1396 - val_acc: 0.4950\n",
      "Epoch 6/20\n",
      "121/121 [==============================] - 11s 90ms/step - loss: 8.0716 - acc: 0.4992 - val_loss: 7.9785 - val_acc: 0.5050\n",
      "Epoch 7/20\n",
      " 76/121 [=================>............] - ETA: 4s - loss: 7.9729 - acc: 0.5053"
     ]
    }
   ],
   "source": [
    "start = 0\n",
    "end   = 8\n",
    "\n",
    "from generators import *\n",
    "from helpers import *\n",
    "from models import *\n",
    "from running import *\n",
    "\n",
    "models = prepare_models_list()\n",
    "\n",
    "for irow in range(start, end+1):\n",
    "    print('-------------------------')    \n",
    "    print('-------------------------')    \n",
    "    print('-------------------------')\n",
    "    print('EXECUTING MODEL %s OUT OF %s'%(irow, end))\n",
    "    print(models[irow])\n",
    "    \n",
    "    single_iter(models[irow], run_now = True, run_test = False)"
   ]
  },
  {
   "cell_type": "code",
   "execution_count": null,
   "metadata": {},
   "outputs": [],
   "source": []
  }
 ],
 "metadata": {
  "kernelspec": {
   "display_name": "Python 3",
   "language": "python",
   "name": "python3"
  },
  "language_info": {
   "codemirror_mode": {
    "name": "ipython",
    "version": 3
   },
   "file_extension": ".py",
   "mimetype": "text/x-python",
   "name": "python",
   "nbconvert_exporter": "python",
   "pygments_lexer": "ipython3",
   "version": "3.5.3"
  }
 },
 "nbformat": 4,
 "nbformat_minor": 2
}
